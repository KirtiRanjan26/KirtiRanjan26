{
  "nbformat": 4,
  "nbformat_minor": 0,
  "metadata": {
    "colab": {
      "provenance": [],
      "authorship_tag": "ABX9TyOqARdB0oer1cxvsNVr7Hwr",
      "include_colab_link": true
    },
    "kernelspec": {
      "name": "python3",
      "display_name": "Python 3"
    },
    "language_info": {
      "name": "python"
    }
  },
  "cells": [
    {
      "cell_type": "markdown",
      "metadata": {
        "id": "view-in-github",
        "colab_type": "text"
      },
      "source": [
        "<a href=\"https://colab.research.google.com/github/KirtiRanjan26/KirtiRanjan26/blob/main/pyhton_concept_1.ipynb\" target=\"_parent\"><img src=\"https://colab.research.google.com/assets/colab-badge.svg\" alt=\"Open In Colab\"/></a>"
      ]
    },
    {
      "cell_type": "markdown",
      "source": [
        "# variable in python"
      ],
      "metadata": {
        "id": "DhHIh-ONjpnZ"
      }
    },
    {
      "cell_type": "markdown",
      "source": [
        "Python variables are the reserved memory locations used to store values with in a Python Program.\n",
        "\n",
        "Data items belonging to different data types are stored in computer's memory. Computer's memory locations are having a number or address, internally represented in binary form.\n",
        "\n",
        "Python's built-in id() function returns the address where the object is stored.\n",
        "\n"
      ],
      "metadata": {
        "id": "UjFMYITukwO3"
      }
    },
    {
      "cell_type": "code",
      "source": [
        "name=\"krrish\" #name is the variable that store the value of krrish(string datatype)\n",
        "print(id(name)) #return the address of the variable name"
      ],
      "metadata": {
        "colab": {
          "base_uri": "https://localhost:8080/"
        },
        "id": "YNRiNoshlkIE",
        "outputId": "9033097e-c72e-4827-b9b1-ea1d06addd6e"
      },
      "execution_count": null,
      "outputs": [
        {
          "output_type": "stream",
          "name": "stdout",
          "text": [
            "133763201568560\n"
          ]
        }
      ]
    },
    {
      "cell_type": "code",
      "source": [
        "counter = 100          # Creates an integer variable\n",
        "miles   = 1000.0       # Creates a floating point variable\n",
        "name    = \"krrish\"     # Creates a string variable\n",
        "\n",
        "print (counter)\n",
        "print (miles)\n",
        "print (name)"
      ],
      "metadata": {
        "colab": {
          "base_uri": "https://localhost:8080/"
        },
        "id": "OwuPQesdmPlj",
        "outputId": "c0eab727-3339-4d2d-eff5-30ad9bd4e7e7"
      },
      "execution_count": null,
      "outputs": [
        {
          "output_type": "stream",
          "name": "stdout",
          "text": [
            "100\n",
            "1000.0\n",
            "krrish\n"
          ]
        }
      ]
    },
    {
      "cell_type": "markdown",
      "source": [
        "Deleting Python Variables\n",
        "You can delete the reference to a number object by using the del statement. The syntax of the del statement is −\n",
        "\n",
        "del var1[,var2[,var3[....,varN]]]]\n",
        "You can delete a single object or multiple objects by using the del statement. For example −"
      ],
      "metadata": {
        "id": "yxU63di-muxM"
      }
    },
    {
      "cell_type": "code",
      "source": [
        "del counter\n",
        "print(counter)"
      ],
      "metadata": {
        "colab": {
          "base_uri": "https://localhost:8080/",
          "height": 159
        },
        "id": "ET1mXrh7mzVr",
        "outputId": "7224e96c-1e42-4dfe-f474-598eb4354da1"
      },
      "execution_count": null,
      "outputs": [
        {
          "output_type": "error",
          "ename": "NameError",
          "evalue": "name 'counter' is not defined",
          "traceback": [
            "\u001b[0;31m---------------------------------------------------------------------------\u001b[0m",
            "\u001b[0;31mNameError\u001b[0m                                 Traceback (most recent call last)",
            "\u001b[0;32m<ipython-input-6-2fb56081f0e9>\u001b[0m in \u001b[0;36m<cell line: 2>\u001b[0;34m()\u001b[0m\n\u001b[1;32m      1\u001b[0m \u001b[0;32mdel\u001b[0m \u001b[0mcounter\u001b[0m\u001b[0;34m\u001b[0m\u001b[0;34m\u001b[0m\u001b[0m\n\u001b[0;32m----> 2\u001b[0;31m \u001b[0mprint\u001b[0m\u001b[0;34m(\u001b[0m\u001b[0mcounter\u001b[0m\u001b[0;34m)\u001b[0m\u001b[0;34m\u001b[0m\u001b[0;34m\u001b[0m\u001b[0m\n\u001b[0m",
            "\u001b[0;31mNameError\u001b[0m: name 'counter' is not defined"
          ]
        }
      ]
    },
    {
      "cell_type": "markdown",
      "source": [
        "# Datatype in python\n",
        "\n",
        "Python data types are actually classes, and the defined variables are their instances or objects. Since Python is dynamically typed, the data type of a variable is determined at runtime based on the assigned value.\n",
        "\n",
        "In general, the data types are used to define the type of a variable"
      ],
      "metadata": {
        "id": "MFuLOMiwoU4w"
      }
    },
    {
      "cell_type": "markdown",
      "source": [
        "type of Datatype:-\n",
        "\n",
        "\n",
        "1.   numeric(int,float,complex)\n",
        "2.   string\n",
        "3.   Sequence of data(list,tupple,range)\n",
        "4.   binary\n",
        "5.   Dictionary\n",
        "6.   set\n",
        "7.   boolean\n",
        "8.   None\n",
        "\n"
      ],
      "metadata": {
        "id": "s1xtsbxso0Br"
      }
    },
    {
      "cell_type": "code",
      "source": [
        "# integer variable.\n",
        "a=100\n",
        "print(\"The type of variable having value\", a, \" is \", type(a))\n",
        "\n",
        "# float variable.\n",
        "c=20.345\n",
        "print(\"The type of variable having value\", c, \" is \", type(c))\n",
        "\n",
        "# complex variable.\n",
        "d=10+3j\n",
        "print(\"The type of variable having value\", d, \" is \", type(d))"
      ],
      "metadata": {
        "colab": {
          "base_uri": "https://localhost:8080/"
        },
        "id": "rFsauxtttaLC",
        "outputId": "bed4b0b9-2a8a-4087-9e3d-ad379bdaa0df"
      },
      "execution_count": null,
      "outputs": [
        {
          "output_type": "stream",
          "name": "stdout",
          "text": [
            "The type of variable having value 100  is  <class 'int'>\n",
            "The type of variable having value 20.345  is  <class 'float'>\n",
            "The type of variable having value (10+3j)  is  <class 'complex'>\n"
          ]
        }
      ]
    },
    {
      "cell_type": "code",
      "source": [
        "str = 'Hello World!'\n",
        "\n",
        "print (str)          # Prints complete string\n",
        "print (str[0])       # Prints first character of the string\n",
        "print (str[2:5])     # Prints characters starting from 3rd to 5th\n",
        "print (str[2:])      # Prints string starting from 3rd character\n",
        "print (str * 2)      # Prints string two times\n",
        "print (str + \"TEST\") # Prints concatenated string"
      ],
      "metadata": {
        "colab": {
          "base_uri": "https://localhost:8080/"
        },
        "id": "Qt-xASkRzbop",
        "outputId": "8d8bb208-07a1-4dd0-b897-0a6519376482"
      },
      "execution_count": null,
      "outputs": [
        {
          "output_type": "stream",
          "name": "stdout",
          "text": [
            "Hello World!\n",
            "H\n",
            "llo\n",
            "llo World!\n",
            "Hello World!Hello World!\n",
            "Hello World!TEST\n"
          ]
        }
      ]
    },
    {
      "cell_type": "code",
      "source": [
        "list = [ 'abcd', 786 , 2.23, 'john', 70.2 ]\n",
        "tinylist = [123, 'john']\n",
        "\n",
        "print (list)            # Prints complete list\n",
        "print (list[0])         # Prints first element of the list\n",
        "print (list[1:3])       # Prints elements starting from 2nd till 3rd\n",
        "print (list[2:])        # Prints elements starting from 3rd element\n",
        "print (tinylist * 2)    # Prints list two times\n",
        "print (list + tinylist) # Prints concatenated lists"
      ],
      "metadata": {
        "colab": {
          "base_uri": "https://localhost:8080/"
        },
        "id": "o0NuT7pRzlFT",
        "outputId": "524f72cb-463a-496a-f450-45a7dbbf7275"
      },
      "execution_count": null,
      "outputs": [
        {
          "output_type": "stream",
          "name": "stdout",
          "text": [
            "['abcd', 786, 2.23, 'john', 70.2]\n",
            "abcd\n",
            "[786, 2.23]\n",
            "[2.23, 'john', 70.2]\n",
            "[123, 'john', 123, 'john']\n",
            "['abcd', 786, 2.23, 'john', 70.2, 123, 'john']\n"
          ]
        }
      ]
    },
    {
      "cell_type": "code",
      "source": [
        "tuple = ( 'abcd', 786 , 2.23, 'john', 70.2  )\n",
        "tinytuple = (123, 'john')\n",
        "\n",
        "print (tuple)               # Prints the complete tuple\n",
        "print (tuple[0])            # Prints first element of the tuple\n",
        "print (tuple[1:3])          # Prints elements of the tuple starting from 2nd till 3rd\n",
        "print (tuple[2:])           # Prints elements of the tuple starting from 3rd element\n",
        "print (tinytuple * 2)       # Prints the contents of the tuple twice\n",
        "print (tuple + tinytuple)   # Prints concatenated tuples"
      ],
      "metadata": {
        "colab": {
          "base_uri": "https://localhost:8080/"
        },
        "id": "eA7SndZ3ztOG",
        "outputId": "6312b4f2-c418-4d40-d61a-e96e753a1372"
      },
      "execution_count": null,
      "outputs": [
        {
          "output_type": "stream",
          "name": "stdout",
          "text": [
            "('abcd', 786, 2.23, 'john', 70.2)\n",
            "abcd\n",
            "(786, 2.23)\n",
            "(2.23, 'john', 70.2)\n",
            "(123, 'john', 123, 'john')\n",
            "('abcd', 786, 2.23, 'john', 70.2, 123, 'john')\n"
          ]
        }
      ]
    },
    {
      "cell_type": "code",
      "source": [
        "tuple = ( 'abcd', 786 , 2.23, 'john', 70.2  )\n",
        "list = [ 'abcd', 786 , 2.23, 'john', 70.2  ]\n",
        "tuple[2] = 1000    # Invalid syntax with tuple\n",
        "list[2] = 1000     # Valid syntax with list\n",
        "# because of tuple is immutable in  nature"
      ],
      "metadata": {
        "colab": {
          "base_uri": "https://localhost:8080/",
          "height": 211
        },
        "id": "pUpidunhz-NY",
        "outputId": "ebc93f97-6207-4fde-d8a4-cd3929e92e78"
      },
      "execution_count": null,
      "outputs": [
        {
          "output_type": "error",
          "ename": "TypeError",
          "evalue": "'tuple' object does not support item assignment",
          "traceback": [
            "\u001b[0;31m---------------------------------------------------------------------------\u001b[0m",
            "\u001b[0;31mTypeError\u001b[0m                                 Traceback (most recent call last)",
            "\u001b[0;32m<ipython-input-13-0e76398d688f>\u001b[0m in \u001b[0;36m<cell line: 3>\u001b[0;34m()\u001b[0m\n\u001b[1;32m      1\u001b[0m \u001b[0mtuple\u001b[0m \u001b[0;34m=\u001b[0m \u001b[0;34m(\u001b[0m \u001b[0;34m'abcd'\u001b[0m\u001b[0;34m,\u001b[0m \u001b[0;36m786\u001b[0m \u001b[0;34m,\u001b[0m \u001b[0;36m2.23\u001b[0m\u001b[0;34m,\u001b[0m \u001b[0;34m'john'\u001b[0m\u001b[0;34m,\u001b[0m \u001b[0;36m70.2\u001b[0m  \u001b[0;34m)\u001b[0m\u001b[0;34m\u001b[0m\u001b[0;34m\u001b[0m\u001b[0m\n\u001b[1;32m      2\u001b[0m \u001b[0mlist\u001b[0m \u001b[0;34m=\u001b[0m \u001b[0;34m[\u001b[0m \u001b[0;34m'abcd'\u001b[0m\u001b[0;34m,\u001b[0m \u001b[0;36m786\u001b[0m \u001b[0;34m,\u001b[0m \u001b[0;36m2.23\u001b[0m\u001b[0;34m,\u001b[0m \u001b[0;34m'john'\u001b[0m\u001b[0;34m,\u001b[0m \u001b[0;36m70.2\u001b[0m  \u001b[0;34m]\u001b[0m\u001b[0;34m\u001b[0m\u001b[0;34m\u001b[0m\u001b[0m\n\u001b[0;32m----> 3\u001b[0;31m \u001b[0mtuple\u001b[0m\u001b[0;34m[\u001b[0m\u001b[0;36m2\u001b[0m\u001b[0;34m]\u001b[0m \u001b[0;34m=\u001b[0m \u001b[0;36m1000\u001b[0m    \u001b[0;31m# Invalid syntax with tuple\u001b[0m\u001b[0;34m\u001b[0m\u001b[0;34m\u001b[0m\u001b[0m\n\u001b[0m\u001b[1;32m      4\u001b[0m \u001b[0mlist\u001b[0m\u001b[0;34m[\u001b[0m\u001b[0;36m2\u001b[0m\u001b[0;34m]\u001b[0m \u001b[0;34m=\u001b[0m \u001b[0;36m1000\u001b[0m     \u001b[0;31m# Valid syntax with list\u001b[0m\u001b[0;34m\u001b[0m\u001b[0;34m\u001b[0m\u001b[0m\n\u001b[1;32m      5\u001b[0m \u001b[0;31m# because of tuple is immutable in  nature\u001b[0m\u001b[0;34m\u001b[0m\u001b[0;34m\u001b[0m\u001b[0m\n",
            "\u001b[0;31mTypeError\u001b[0m: 'tuple' object does not support item assignment"
          ]
        }
      ]
    },
    {
      "cell_type": "markdown",
      "source": [
        "range(start, stop, step)\n",
        "\n",
        "start: Integer number to specify starting position, (Its optional, Default: 0)\n",
        "\n",
        "stop: Integer number to specify ending position (It's mandatory)\n",
        "\n",
        "step: Integer number to specify increment, (Its optional, Default: 1)"
      ],
      "metadata": {
        "id": "Jq89scKH0XMX"
      }
    },
    {
      "cell_type": "code",
      "source": [
        "for i in range(5):\n",
        "  print(i)"
      ],
      "metadata": {
        "colab": {
          "base_uri": "https://localhost:8080/"
        },
        "id": "j1ATvfe40LB9",
        "outputId": "3a030c96-627f-423b-a5d3-42081a4bb1b4"
      },
      "execution_count": null,
      "outputs": [
        {
          "output_type": "stream",
          "name": "stdout",
          "text": [
            "0\n",
            "1\n",
            "2\n",
            "3\n",
            "4\n"
          ]
        }
      ]
    },
    {
      "cell_type": "code",
      "source": [
        "# Using bytes() function to create bytes\n",
        "b1 = bytes([65, 66, 67, 68, 69])\n",
        "print(b1)\n",
        "\n",
        "# Using prefix 'b' to create bytes\n",
        "b2 = b'Hello'\n",
        "print(b2)\n",
        "print(type(b2))"
      ],
      "metadata": {
        "colab": {
          "base_uri": "https://localhost:8080/"
        },
        "id": "t3hDZLRj0n5S",
        "outputId": "a4f43194-6bae-41e1-9583-ab51e1706ebf"
      },
      "execution_count": null,
      "outputs": [
        {
          "output_type": "stream",
          "name": "stdout",
          "text": [
            "b'ABCDE'\n",
            "b'Hello'\n",
            "<class 'bytes'>\n"
          ]
        }
      ]
    },
    {
      "cell_type": "code",
      "source": [
        "dict = {}\n",
        "dict['one'] = \"This is one\"\n",
        "dict[2]     = \"This is two\"\n",
        "\n",
        "tinydict = {'name': 'john','code':6734, 'dept': 'sales'}\n",
        "\n",
        "\n",
        "print (dict['one'])       # Prints value for 'one' key\n",
        "print (dict[2])           # Prints value for 2 key\n",
        "print (tinydict)          # Prints complete dictionary\n",
        "print (tinydict.keys())   # Prints all the keys\n",
        "print (tinydict.values()) # Prints all the values"
      ],
      "metadata": {
        "colab": {
          "base_uri": "https://localhost:8080/"
        },
        "id": "CFomtrkO1QWd",
        "outputId": "f8c12f01-3f7c-4b3b-b279-ae076581e81b"
      },
      "execution_count": null,
      "outputs": [
        {
          "output_type": "stream",
          "name": "stdout",
          "text": [
            "This is one\n",
            "This is two\n",
            "{'name': 'john', 'code': 6734, 'dept': 'sales'}\n",
            "dict_keys(['name', 'code', 'dept'])\n",
            "dict_values(['john', 6734, 'sales'])\n"
          ]
        }
      ]
    },
    {
      "cell_type": "code",
      "source": [
        "a = True\n",
        "# display the value of a\n",
        "print(a)\n",
        "\n",
        "# display the data type of a\n",
        "print(type(a))"
      ],
      "metadata": {
        "colab": {
          "base_uri": "https://localhost:8080/"
        },
        "id": "9DrsTyFB1bUm",
        "outputId": "0517fb2a-4203-4b56-f97d-2377dbe1c36f"
      },
      "execution_count": null,
      "outputs": [
        {
          "output_type": "stream",
          "name": "stdout",
          "text": [
            "True\n",
            "<class 'bool'>\n"
          ]
        }
      ]
    }
  ]
}